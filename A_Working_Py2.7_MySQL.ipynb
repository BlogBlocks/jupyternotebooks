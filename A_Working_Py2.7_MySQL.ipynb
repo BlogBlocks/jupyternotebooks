{
 "cells": [
  {
   "cell_type": "code",
   "execution_count": 1,
   "metadata": {},
   "outputs": [
    {
     "data": {
      "text/plain": [
       "1L"
      ]
     },
     "execution_count": 1,
     "metadata": {},
     "output_type": "execute_result"
    }
   ],
   "source": [
    "import MySQLdb\n",
    "import MySQLdb as db\n",
    "con = db.connect(host=\"localhost\", user=\"root\", passwd=\"ThinkPadT$#\")\n",
    "cur = con.cursor()\n",
    "#cur.execute('CREATE DATABASE MySQLdbtest;')\n",
    "cur.execute('CREATE DATABASE MySQLdb5;')"
   ]
  },
  {
   "cell_type": "code",
   "execution_count": 2,
   "metadata": {
    "collapsed": true
   },
   "outputs": [],
   "source": [
    "import MySQLdb\n",
    "import MySQLdb as db\n",
    "\n",
    "dsn_database = \"MySQLdb5\"   # e.g. \"MySQLdbtest\"\n",
    "dsn_hostname = \"localhost\"       # e.g.: \"mydbinstance.xyz.us-east-1.rds.amazonaws.com\"\n",
    "dsn_port = 3306                        # e.g. 3306 \n",
    "dsn_uid = \"root\"             # e.g. \"user1\"\n",
    "dsn_pwd = \"ThinkPadT$#\"            # e.g. \"Password123\""
   ]
  },
  {
   "cell_type": "code",
   "execution_count": 3,
   "metadata": {
    "collapsed": true
   },
   "outputs": [],
   "source": [
    "conn = MySQLdb.connect(host=dsn_hostname, port=dsn_port, \\\n",
    "                       user=dsn_uid, passwd=dsn_pwd, db=dsn_database)"
   ]
  },
  {
   "cell_type": "code",
   "execution_count": 21,
   "metadata": {
    "collapsed": true
   },
   "outputs": [],
   "source": [
    "conn.query(\"\"\"DROP TABLE IF EXISTS Cars\"\"\")\n",
    "conn.query(\"\"\"CREATE TABLE Cars(Id INTEGER PRIMARY KEY, Name VARCHAR(20), Price INT)\"\"\")\n",
    "conn.query(\"\"\"INSERT INTO Cars VALUES(1,'Audi',52642)\"\"\")\n",
    "conn.query(\"\"\"INSERT INTO Cars VALUES(2,'Mercedes',57127)\"\"\")\n",
    "conn.query(\"\"\"INSERT INTO Cars VALUES(3,'Skoda',9000)\"\"\")\n",
    "conn.query(\"\"\"INSERT INTO Cars VALUES(4,'Volvo',29000)\"\"\")\n",
    "conn.query(\"\"\"INSERT INTO Cars VALUES(5,'Bentley',350000)\"\"\")\n",
    "conn.query(\"\"\"INSERT INTO Cars VALUES(6,'Citroen',21000)\"\"\")\n",
    "conn.query(\"\"\"INSERT INTO Cars VALUES(7,'Hummer',41400)\"\"\")\n",
    "conn.query(\"\"\"INSERT INTO Cars VALUES(8,'Volkswagen',21600)\"\"\")\n",
    "conn.query(\"\"\"INSERT INTO Cars VALUES(9,'Studebaker',41600)\"\"\")\n",
    "conn.query(\"\"\"INSERT INTO Cars VALUES(10,'Studabaker',25000)\"\"\")\n",
    "conn.query(\"\"\"INSERT INTO Cars VALUES(11,'Ford',35000)\"\"\")\n",
    "conn.query(\"\"\"INSERT INTO Cars VALUES(12,'dodge',25000)\"\"\")"
   ]
  },
  {
   "cell_type": "code",
   "execution_count": 16,
   "metadata": {},
   "outputs": [
    {
     "name": "stdout",
     "output_type": "stream",
     "text": [
      "\n",
      "Show me the records:\n",
      "\n",
      "((1L, 'Audi', 52642L),\n",
      " (2L, 'Mercedes', 57127L),\n",
      " (3L, 'Skoda', 9000L),\n",
      " (4L, 'Volvo', 29000L),\n",
      " (5L, 'Bentley', 350000L),\n",
      " (6L, 'Citroen', 21000L),\n",
      " (7L, 'Hummer', 41400L),\n",
      " (8L, 'Volkswagen', 21600L),\n",
      " (9L, 'Studebaker', 41600L),\n",
      " (10L, 'Studabaker', 25000L),\n",
      " (11L, 'Ford', 35000L),\n",
      " (12L, 'dodge', 25000L))\n"
     ]
    }
   ],
   "source": [
    "cursor=conn.cursor()\n",
    "cursor.execute(\"\"\"SELECT * FROM Cars\"\"\")\n",
    "print \"\\nShow me the records:\\n\"\n",
    "rows = cursor.fetchall()\n",
    "import pprint\n",
    "pprint.pprint(rows)"
   ]
  },
  {
   "cell_type": "code",
   "execution_count": 13,
   "metadata": {
    "collapsed": true
   },
   "outputs": [],
   "source": [
    "conn = MySQLdb.connect(host=dsn_hostname, port=dsn_port, user=dsn_uid, passwd=dsn_pwd, db=dsn_database)\n",
    "conn.query(\"\"\"INSERT INTO Cars VALUES(12,'Ford',35000)\"\"\")"
   ]
  },
  {
   "cell_type": "code",
   "execution_count": 14,
   "metadata": {
    "collapsed": true
   },
   "outputs": [],
   "source": [
    "conn.close()"
   ]
  },
  {
   "cell_type": "markdown",
   "metadata": {},
   "source": [
    "# xxxxxxxxxxxxxxxxxxxxxxxxxxxxxxxxxxxxxxxxxxxxxxx"
   ]
  },
  {
   "cell_type": "code",
   "execution_count": 20,
   "metadata": {
    "collapsed": true
   },
   "outputs": [],
   "source": [
    "dsn_database = \"MySQLdbtest5\"   # e.g. \"MySQLdbtest\"\n",
    "dsn_hostname = \"localhost\"       # e.g.: \"mydbinstance.xyz.us-east-1.rds.amazonaws.com\"\n",
    "dsn_port = 3306                        # e.g. 3306 \n",
    "dsn_uid = \"root\"             # e.g. \"user1\"\n",
    "dsn_pwd = \"ThinkPadT$#\"            # e.g. \"Password123\""
   ]
  },
  {
   "cell_type": "code",
   "execution_count": 18,
   "metadata": {
    "collapsed": true
   },
   "outputs": [],
   "source": [
    "conn = MySQLdb.connect(host=dsn_hostname, port=dsn_port, user=dsn_uid, passwd=dsn_pwd, db=dsn_database)"
   ]
  },
  {
   "cell_type": "code",
   "execution_count": 26,
   "metadata": {
    "collapsed": true
   },
   "outputs": [],
   "source": [
    "conn.close()"
   ]
  },
  {
   "cell_type": "code",
   "execution_count": 22,
   "metadata": {},
   "outputs": [
    {
     "name": "stdout",
     "output_type": "stream",
     "text": [
      "\n",
      "Show me the records:\n",
      "\n",
      "((1L, 'Audi', 52642L),\n",
      " (2L, 'Mercedes', 57127L),\n",
      " (3L, 'Skoda', 9000L),\n",
      " (4L, 'Volvo', 29000L),\n",
      " (5L, 'Bentley', 350000L),\n",
      " (6L, 'Citroen', 21000L),\n",
      " (7L, 'Hummer', 41400L),\n",
      " (8L, 'Volkswagen', 21600L),\n",
      " (9L, 'Studebaker', 41600L),\n",
      " (10L, 'Studabaker', 25000L),\n",
      " (11L, 'Ford', 35000L),\n",
      " (12L, 'dodge', 25000L))\n"
     ]
    }
   ],
   "source": [
    "cursor=conn.cursor()\n",
    "cursor.execute(\"\"\"SELECT * FROM Cars\"\"\")\n",
    "print \"\\nShow me the records:\\n\"\n",
    "rows = cursor.fetchall()\n",
    "import pprint\n",
    "pprint.pprint(rows)"
   ]
  },
  {
   "cell_type": "code",
   "execution_count": 23,
   "metadata": {},
   "outputs": [
    {
     "name": "stdout",
     "output_type": "stream",
     "text": [
      "\n",
      "Show me the records:\n",
      "\n",
      "((1L, 'Audi', 52642L),\n",
      " (2L, 'Mercedes', 57127L),\n",
      " (3L, 'Skoda', 9000L),\n",
      " (4L, 'Volvo', 29000L),\n",
      " (5L, 'Bentley', 350000L),\n",
      " (6L, 'Citroen', 21000L),\n",
      " (7L, 'Hummer', 41400L),\n",
      " (8L, 'Volkswagen', 21600L),\n",
      " (9L, 'Studebaker', 41600L),\n",
      " (10L, 'Studabaker', 25000L),\n",
      " (11L, 'Ford', 35000L),\n",
      " (12L, 'dodge', 25000L))\n"
     ]
    }
   ],
   "source": [
    "cursor=conn.cursor()\n",
    "cursor.execute(\"\"\"SELECT * FROM Cars\"\"\")\n",
    "print \"\\nShow me the records:\\n\"\n",
    "rows = cursor.fetchall()\n",
    "import pprint\n",
    "pprint.pprint(rows)"
   ]
  },
  {
   "cell_type": "code",
   "execution_count": 31,
   "metadata": {},
   "outputs": [
    {
     "data": {
      "text/plain": [
       "(('Audi',),\n",
       " ('Mercedes',),\n",
       " ('Skoda',),\n",
       " ('Volvo',),\n",
       " ('Bentley',),\n",
       " ('Citroen',),\n",
       " ('Hummer',),\n",
       " ('Volkswagen',),\n",
       " ('Studebaker',),\n",
       " ('Studabaker',),\n",
       " ('Ford',),\n",
       " ('dodge',))"
      ]
     },
     "execution_count": 31,
     "metadata": {},
     "output_type": "execute_result"
    }
   ],
   "source": [
    "cursor=conn.cursor()\n",
    "cursor.execute(\"\"\"SELECT Name FROM Cars \"\"\")\n",
    "cursor.fetchall()"
   ]
  },
  {
   "cell_type": "code",
   "execution_count": null,
   "metadata": {
    "collapsed": true
   },
   "outputs": [],
   "source": []
  },
  {
   "cell_type": "code",
   "execution_count": null,
   "metadata": {
    "collapsed": true
   },
   "outputs": [],
   "source": []
  },
  {
   "cell_type": "code",
   "execution_count": null,
   "metadata": {
    "collapsed": true
   },
   "outputs": [],
   "source": []
  }
 ],
 "metadata": {
  "kernelspec": {
   "display_name": "Python 2",
   "language": "python",
   "name": "python2"
  },
  "language_info": {
   "codemirror_mode": {
    "name": "ipython",
    "version": 2
   },
   "file_extension": ".py",
   "mimetype": "text/x-python",
   "name": "python",
   "nbconvert_exporter": "python",
   "pygments_lexer": "ipython2",
   "version": "2.7.13"
  }
 },
 "nbformat": 4,
 "nbformat_minor": 2
}
