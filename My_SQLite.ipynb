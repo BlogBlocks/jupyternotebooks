{
 "cells": [
  {
   "cell_type": "code",
   "execution_count": 3,
   "metadata": {
    "collapsed": false
   },
   "outputs": [],
   "source": [
    "global bar\n",
    "bar = []\n",
    "def foobar():\n",
    "    bar.append('X')\n",
    "\n",
    "\n",
    "import sqlite3\n",
    "\n",
    "sqlite_file = 'my_db1.db'    # name of the sqlite database file\n",
    "table_name1 = 'my_table_1'  # name of the table to be created\n",
    "table_name2 = 'my_table_2'  # name of the table to be created\n",
    "new_field = 'my_1st_column' # name of the column\n",
    "field_type = 'INTEGER'  # column data type\n",
    "\n",
    "# Connecting to the database file\n",
    "conn = sqlite3.connect(sqlite_file)\n",
    "c = conn.cursor()\n",
    "\n",
    "# Creating a new SQLite table with 1 column\n",
    "c.execute('CREATE TABLE {tn} ({nf} {ft})'\\\n",
    "        .format(tn=table_name1, nf=new_field, ft=field_type))\n",
    "\n",
    "# Creating a second table with 1 column and set it as PRIMARY KEY\n",
    "# note that PRIMARY KEY column must consist of unique values!\n",
    "c.execute('CREATE TABLE {tn} ({nf} {ft} PRIMARY KEY)'\\\n",
    "        .format(tn=table_name2, nf=new_field, ft=field_type))\n",
    "\n",
    "# Committing changes and closing the connection to the database file\n",
    "conn.commit()\n",
    "conn.close()\n",
    "\n"
   ]
  },
  {
   "cell_type": "markdown",
   "metadata": {},
   "source": [
    "Adding new columns\n",
    "\n",
    "If we want to add a new column to an existing SQLite database table, we can either leave the cells for each row empty (NULL value), or we can set a default value for each cell, which is pretty convenient for certain applications.\n",
    "Let’s have a look at some code:"
   ]
  },
  {
   "cell_type": "code",
   "execution_count": 4,
   "metadata": {
    "collapsed": false
   },
   "outputs": [],
   "source": [
    "import sqlite3\n",
    "\n",
    "sqlite_file = 'my_db1.db'    # name of the sqlite database file\n",
    "table_name = 'my_table_2'   # name of the table to be created\n",
    "id_column = 'my_1st_column' # name of the PRIMARY KEY column\n",
    "new_column1 = 'my_2nd_column'  # name of the new column\n",
    "new_column2 = 'my_3nd_column'  # name of the new column\n",
    "column_type = 'TEXT' # E.g., INTEGER, TEXT, NULL, REAL, BLOB\n",
    "default_val = 'Hello World' # a default value for the new column rows\n",
    "\n",
    "# Connecting to the database file\n",
    "conn = sqlite3.connect(sqlite_file)\n",
    "c = conn.cursor()\n",
    "\n",
    "# A) Adding a new column without a row value\n",
    "c.execute(\"ALTER TABLE {tn} ADD COLUMN '{cn}' {ct}\"\\\n",
    "        .format(tn=table_name, cn=new_column1, ct=column_type))\n",
    "\n",
    "# B) Adding a new column with a default row value\n",
    "c.execute(\"ALTER TABLE {tn} ADD COLUMN '{cn}' {ct} DEFAULT '{df}'\"\\\n",
    "        .format(tn=table_name, cn=new_column2, ct=column_type, df=default_val))\n",
    "\n",
    "# Committing changes and closing the connection to the database file\n",
    "conn.commit()\n",
    "conn.close()\n",
    "\n"
   ]
  },
  {
   "cell_type": "markdown",
   "metadata": {},
   "source": [
    "Inserting and updating rows\n",
    "\n",
    "Inserting and updating rows into an existing SQLite database table - next to sending queries - is probably the most common database operation. The Structured Query Language has a convenient UPSERT function, which is basically just a merge between UPDATE and INSERT: It inserts new rows into a database table with a value for the PRIMARY KEY column if it does not exist yet, or updates a row for an existing PRIMARY KEY value. Unfortunately, this convenient syntax is not supported by the more compact SQLite database implementation that we are using here. However, there are some workarounds. But let us first have a look at the example code:"
   ]
  },
  {
   "cell_type": "code",
   "execution_count": 5,
   "metadata": {
    "collapsed": false
   },
   "outputs": [],
   "source": [
    "import sqlite3\n",
    "\n",
    "sqlite_file = 'my_db1.db'\n",
    "table_name = 'my_table_2'\n",
    "id_column = 'my_1st_column'\n",
    "column_name = 'my_2nd_column'\n",
    "\n",
    "# Connecting to the database file\n",
    "conn = sqlite3.connect(sqlite_file)\n",
    "c = conn.cursor()\n",
    "\n",
    "# A) Inserts an ID with a specific value in a second column\n",
    "try:\n",
    "    c.execute(\"INSERT INTO {tn} ({idf}, {cn}) VALUES (123456, 'test')\".\\\n",
    "        format(tn=table_name, idf=id_column, cn=column_name))\n",
    "except sqlite3.IntegrityError:\n",
    "    print('ERROR: ID already exists in PRIMARY KEY column {}'.format(id_column))\n",
    "\n",
    "# B) Tries to insert an ID (if it does not exist yet)\n",
    "# with a specific value in a second column\n",
    "c.execute(\"INSERT OR IGNORE INTO {tn} ({idf}, {cn}) VALUES (123456, 'test')\".\\\n",
    "        format(tn=table_name, idf=id_column, cn=column_name))\n",
    "\n",
    "# C) Updates the newly inserted or pre-existing entry            \n",
    "c.execute(\"UPDATE {tn} SET {cn}=('Hi World') WHERE {idf}=(123456)\".\\\n",
    "        format(tn=table_name, cn=column_name, idf=id_column))\n",
    "\n",
    "conn.commit()\n",
    "conn.close()\n",
    "\n"
   ]
  },
  {
   "cell_type": "markdown",
   "metadata": {},
   "source": [
    "## Creating unique indexes\n",
    "\n",
    "Just like hashtable-datastructures, indexes function as direct pointers to our data in a table for a particular column (i.e., the indexed column). For example, the PRIMARY KEY column would have such an index by default. The downside of indexes is that every row value in the column must be unique. However, it is recommended and pretty useful to index certain columns if possible, since it rewards us with a significant performance gain for the data retrieval.\n",
    "The example code below shows how to add such an unique index to an existing column in an SQLite database table. And if we should decide to insert non-unique values into a indexed column later, there is also a convenient way to drop the index, which is also shown in the code below."
   ]
  },
  {
   "cell_type": "code",
   "execution_count": 6,
   "metadata": {
    "collapsed": false
   },
   "outputs": [],
   "source": [
    "import sqlite3\n",
    "\n",
    "sqlite_file = 'my_db1.db'    # name of the sqlite database file\n",
    "table_name = 'my_table_2'   # name of the table to be created\n",
    "id_column = 'my_1st_column' # name of the PRIMARY KEY column\n",
    "new_column = 'unique_names'  # name of the new column\n",
    "column_type = 'TEXT' # E.g., INTEGER, TEXT, NULL, REAL, BLOB\n",
    "index_name = 'my_unique_index'  # name for the new unique index\n",
    "\n",
    "# Connecting to the database file\n",
    "conn = sqlite3.connect(sqlite_file)\n",
    "c = conn.cursor()\n",
    "\n",
    "# Adding a new column and update some record\n",
    "c.execute(\"ALTER TABLE {tn} ADD COLUMN '{cn}' {ct}\"\\\n",
    "        .format(tn=table_name, cn=new_column, ct=column_type))\n",
    "c.execute(\"UPDATE {tn} SET {cn}='sebastian_r' WHERE {idf}=123456\".\\\n",
    "        format(tn=table_name, idf=id_column, cn=new_column))\n",
    "\n",
    "# Creating an unique index\n",
    "c.execute('CREATE INDEX {ix} on {tn}({cn})'\\\n",
    "        .format(ix=index_name, tn=table_name, cn=new_column))\n",
    "\n",
    "# Dropping the unique index\n",
    "# E.g., to avoid future conflicts with update/insert functions\n",
    "c.execute('DROP INDEX {ix}'.format(ix=index_name))\n",
    "\n",
    "# Committing changes and closing the connection to the database file\n",
    "conn.commit()\n",
    "conn.close()\n"
   ]
  },
  {
   "cell_type": "markdown",
   "metadata": {},
   "source": [
    "##Querying the database - Selecting rows"
   ]
  },
  {
   "cell_type": "markdown",
   "metadata": {},
   "source": [
    "After we learned about how to create and modify SQLite databases, it’s about time for some data retrieval. The code below illustrates how we can retrieve row entries for all or some columns if they match certain criteria."
   ]
  },
  {
   "cell_type": "code",
   "execution_count": 7,
   "metadata": {
    "collapsed": false
   },
   "outputs": [
    {
     "name": "stdout",
     "output_type": "stream",
     "text": [
      "1): [(123456, 'Hi World', 'Hello World', 'sebastian_r')]\n",
      "2): [('Hi World',)]\n"
     ]
    },
    {
     "ename": "OperationalError",
     "evalue": "no such column: my_3rd_column",
     "output_type": "error",
     "traceback": [
      "\u001b[0;31m---------------------------------------------------------------------------\u001b[0m",
      "\u001b[0;31mOperationalError\u001b[0m                          Traceback (most recent call last)",
      "\u001b[0;32m<ipython-input-7-44be22ac7001>\u001b[0m in \u001b[0;36m<module>\u001b[0;34m()\u001b[0m\n\u001b[1;32m     23\u001b[0m \u001b[0;34m\u001b[0m\u001b[0m\n\u001b[1;32m     24\u001b[0m \u001b[0;31m# 3) Value of 2 particular columns for rows that match a certain value in 1 column\u001b[0m\u001b[0;34m\u001b[0m\u001b[0;34m\u001b[0m\u001b[0m\n\u001b[0;32m---> 25\u001b[0;31m \u001b[0mc\u001b[0m\u001b[0;34m.\u001b[0m\u001b[0mexecute\u001b[0m\u001b[0;34m(\u001b[0m\u001b[0;34m'SELECT {coi1},{coi2} FROM {tn} WHERE {coi1}=\"Hi World\"'\u001b[0m\u001b[0;34m.\u001b[0m        \u001b[0mformat\u001b[0m\u001b[0;34m(\u001b[0m\u001b[0mcoi1\u001b[0m\u001b[0;34m=\u001b[0m\u001b[0mcolumn_2\u001b[0m\u001b[0;34m,\u001b[0m \u001b[0mcoi2\u001b[0m\u001b[0;34m=\u001b[0m\u001b[0mcolumn_3\u001b[0m\u001b[0;34m,\u001b[0m \u001b[0mtn\u001b[0m\u001b[0;34m=\u001b[0m\u001b[0mtable_name\u001b[0m\u001b[0;34m,\u001b[0m \u001b[0mcn\u001b[0m\u001b[0;34m=\u001b[0m\u001b[0mcolumn_2\u001b[0m\u001b[0;34m)\u001b[0m\u001b[0;34m)\u001b[0m\u001b[0;34m\u001b[0m\u001b[0m\n\u001b[0m\u001b[1;32m     26\u001b[0m \u001b[0mall_rows\u001b[0m \u001b[0;34m=\u001b[0m \u001b[0mc\u001b[0m\u001b[0;34m.\u001b[0m\u001b[0mfetchall\u001b[0m\u001b[0;34m(\u001b[0m\u001b[0;34m)\u001b[0m\u001b[0;34m\u001b[0m\u001b[0m\n\u001b[1;32m     27\u001b[0m \u001b[0mprint\u001b[0m\u001b[0;34m(\u001b[0m\u001b[0;34m'3):'\u001b[0m\u001b[0;34m,\u001b[0m \u001b[0mall_rows\u001b[0m\u001b[0;34m)\u001b[0m\u001b[0;34m\u001b[0m\u001b[0m\n",
      "\u001b[0;31mOperationalError\u001b[0m: no such column: my_3rd_column"
     ]
    }
   ],
   "source": [
    "import sqlite3\n",
    "\n",
    "sqlite_file = 'my_db1.db'    # name of the sqlite database file\n",
    "table_name = 'my_table_2'   # name of the table to be queried\n",
    "id_column = 'my_1st_column'\n",
    "some_id = 123456\n",
    "column_2 = 'my_2nd_column'\n",
    "column_3 = 'my_3rd_column'\n",
    "\n",
    "# Connecting to the database file\n",
    "conn = sqlite3.connect(sqlite_file)\n",
    "c = conn.cursor()\n",
    "\n",
    "# 1) Contents of all columns for row that match a certain value in 1 column\n",
    "c.execute('SELECT * FROM {tn} WHERE {cn}=\"Hi World\"'.\\\n",
    "        format(tn=table_name, cn=column_2))\n",
    "all_rows = c.fetchall()\n",
    "print('1):', all_rows)\n",
    "\n",
    "# 2) Value of a particular column for rows that match a certain value in column_1\n",
    "c.execute('SELECT ({coi}) FROM {tn} WHERE {cn}=\"Hi World\"'.\\\n",
    "        format(coi=column_2, tn=table_name, cn=column_2))\n",
    "all_rows = c.fetchall()\n",
    "print('2):', all_rows)\n",
    "\n",
    "# 3) Value of 2 particular columns for rows that match a certain value in 1 column\n",
    "c.execute('SELECT {coi1},{coi2} FROM {tn} WHERE {coi1}=\"Hi World\"'.\\\n",
    "        format(coi1=column_2, coi2=column_3, tn=table_name, cn=column_2))\n",
    "all_rows = c.fetchall()\n",
    "print('3):', all_rows)\n",
    "\n",
    "# 4) Selecting only up to 10 rows that match a certain value in 1 column\n",
    "c.execute('SELECT * FROM {tn} WHERE {cn}=\"Hi World\" LIMIT 10'.\\\n",
    "        format(tn=table_name, cn=column_2))\n",
    "ten_rows = c.fetchall()\n",
    "print('4):', ten_rows)\n",
    "\n",
    "# 5) Check if a certain ID exists and print its column contents\n",
    "c.execute(\"SELECT * FROM {tn} WHERE {idf}={my_id}\".\\\n",
    "        format(tn=table_name, cn=column_2, idf=id_column, my_id=some_id))\n",
    "id_exists = c.fetchone()\n",
    "if id_exists:\n",
    "    print('5): {}'.format(id_exists))\n",
    "else:\n",
    "    print('5): {} does not exist'.format(some_id))\n",
    "\n",
    "# Closing the connection to the database file\n",
    "conn.close()\n"
   ]
  },
  {
   "cell_type": "markdown",
   "metadata": {},
   "source": [
    "# Some Date Examples: "
   ]
  },
  {
   "cell_type": "code",
   "execution_count": 47,
   "metadata": {
    "collapsed": false
   },
   "outputs": [
    {
     "ename": "SyntaxError",
     "evalue": "invalid syntax (<ipython-input-47-a631f489e4a9>, line 8)",
     "output_type": "error",
     "traceback": [
      "\u001b[0;36m  File \u001b[0;32m\"<ipython-input-47-a631f489e4a9>\"\u001b[0;36m, line \u001b[0;32m8\u001b[0m\n\u001b[0;31m    BETWEEN '2013-03-06 10:10:10' AND '2015-03-06 10:10:10'\u001b[0m\n\u001b[0m                                ^\u001b[0m\n\u001b[0;31mSyntaxError\u001b[0m\u001b[0;31m:\u001b[0m invalid syntax\n"
     ]
    }
   ],
   "source": [
    "DATE('now') # returns current date, e.g., 2014-03-06\n",
    "TIME('now') # returns current time, e.g., 10:10:10\n",
    "CURRENT_TIMESTAMP # returns current date and time, e.g., 2014-03-06 16:42:30\n",
    "#  (or alternatively: DATETIME('now'))\n",
    "\n",
    "\n",
    "#We used to query for entries that lie between a specified date interval using\n",
    "BETWEEN '2013-03-06 10:10:10' AND '2015-03-06 10:10:10'\n",
    "\n",
    "\n",
    "#and entries that are older than 1 day via\n",
    "WHERE DATE('now') - some_date\n",
    "Update Mar 16, 2014:\n",
    "\n",
    "If’d we are interested to calculate the hours between two DATETIME() timestamps, we can could use the handy STRFTIME() function like this\\\n",
    "\n",
    "SELECT (STRFTIME('%s','2014-03-14 14:51:00') - STRFTIME('%s','2014-03-16 14:51:00'))\n",
    " / -3600\n",
    "\n",
    "which would calculate the difference in hours between two dates in this particular example above (here: 48) in this case.\n",
    "And to calculate the difference in hours between the current DATETIME and a given DATETIME string, we could use the following SQLite syntax:\\\n",
    "\n",
    "SELECT (STRFTIME('%s',DATETIME('now')) - STRFTIME('%s','2014-03-15 14:51:00')) / 3600\n",
    "\n",
    "\n"
   ]
  },
  {
   "cell_type": "markdown",
   "metadata": {},
   "source": [
    "# Date and time operations\n",
    "\n",
    "SQLite inherited the convenient date and time operations from SQL, which are one of my favorite features of the Structured Query Language: It does not only allow us to insert dates and times in various different formats, but we can also perform simple + and - arithmetic, for example to look up entries that have been added xxx days ago."
   ]
  },
  {
   "cell_type": "code",
   "execution_count": 8,
   "metadata": {
    "collapsed": false
   },
   "outputs": [
    {
     "name": "stdout",
     "output_type": "stream",
     "text": [
      "4) all entries between ~2013 - 2015: []\n",
      "5) entries older than 1 day: []\n"
     ]
    }
   ],
   "source": [
    "import sqlite3\n",
    "\n",
    "sqlite_file = 'my_db1.db'    # name of the sqlite database file\n",
    "table_name = 'my_table_3'   # name of the table to be created\n",
    "id_field = 'id' # name of the ID column\n",
    "date_col = 'date' # name of the date column\n",
    "time_col = 'time'# name of the time column\n",
    "date_time_col = 'date_time' # name of the date & time column\n",
    "field_type = 'TEXT'  # column data type\n",
    "\n",
    "# Connecting to the database file\n",
    "conn = sqlite3.connect(sqlite_file)\n",
    "c = conn.cursor()\n",
    "\n",
    "# Creating a new SQLite table with 1 column\n",
    "c.execute('CREATE TABLE {tn} ({fn} {ft} PRIMARY KEY)'\\\n",
    "        .format(tn=table_name, fn=id_field, ft=field_type))\n",
    "\n",
    "# A) Adding a new column to save date insert a row with the current date\n",
    "# in the following format: YYYY-MM-DD\n",
    "# e.g., 2014-03-06\n",
    "c.execute(\"ALTER TABLE {tn} ADD COLUMN '{cn}'\"\\\n",
    "         .format(tn=table_name, cn=date_col))\n",
    "# insert a new row with the current date and time, e.g., 2014-03-06\n",
    "c.execute(\"INSERT INTO {tn} ({idf}, {cn}) VALUES('some_id1', DATE('now'))\"\\\n",
    "         .format(tn=table_name, idf=id_field, cn=date_col))\n",
    "\n",
    "# B) Adding a new column to save date and time and update with the current time\n",
    "# in the following format: HH:MM:SS\n",
    "# e.g., 16:26:37\n",
    "c.execute(\"ALTER TABLE {tn} ADD COLUMN '{cn}'\"\\\n",
    "         .format(tn=table_name, cn=time_col))\n",
    "# update row for the new current date and time column, e.g., 2014-03-06 16:26:37\n",
    "c.execute(\"UPDATE {tn} SET {cn}=TIME('now') WHERE {idf}='some_id1'\"\\\n",
    "         .format(tn=table_name, idf=id_field, cn=time_col))\n",
    "\n",
    "# C) Adding a new column to save date and time and update with current date-time\n",
    "# in the following format: YYYY-MM-DD HH:MM:SS\n",
    "# e.g., 2014-03-06 16:26:37\n",
    "c.execute(\"ALTER TABLE {tn} ADD COLUMN '{cn}'\"\\\n",
    "         .format(tn=table_name, cn=date_time_col))\n",
    "# update row for the new current date and time column, e.g., 2014-03-06 16:26:37\n",
    "c.execute(\"UPDATE {tn} SET {cn}=(CURRENT_TIMESTAMP) WHERE {idf}='some_id1'\"\\\n",
    "         .format(tn=table_name, idf=id_field, cn=date_time_col))\n",
    "\n",
    "# The database should now look like this:\n",
    "# id         date           time        date_time\n",
    "# \"some_id1\" \"2014-03-06\"   \"16:42:30\"  \"2014-03-06 16:42:30\"\n",
    "\n",
    "# 4) Retrieve all IDs of entries between 2 date_times\n",
    "c.execute(\"SELECT {idf} FROM {tn} WHERE {cn} BETWEEN '2013-03-06 10:10:10' AND '2015-03-06 10:10:10'\".\\\n",
    "    format(idf=id_field, tn=table_name, cn=date_time_col))\n",
    "all_date_times = c.fetchall()\n",
    "print('4) all entries between ~2013 - 2015:', all_date_times)\n",
    "\n",
    "# 5) Retrieve all IDs of entries between that are older than 1 day and 12 hrs\n",
    "c.execute(\"SELECT {idf} FROM {tn} WHERE DATE('now') - {dc} >= 1 AND DATE('now') - {tc} >= 12\".\\\n",
    "    format(idf=id_field, tn=table_name, dc=date_col, tc=time_col))\n",
    "all_1day12hrs_entries = c.fetchall()\n",
    "print('5) entries older than 1 day:', all_1day12hrs_entries)\n",
    "\n",
    "# Committing changes and closing the connection to the database file\n",
    "conn.commit()\n",
    "conn.close()\n",
    "\n"
   ]
  },
  {
   "cell_type": "markdown",
   "metadata": {},
   "source": [
    "Retrieving column names\n",
    "\n",
    "In the previous two sections we have seen how we query SQLite databases for data contents. Now let us have a look at how we retrieve its metadata (here: column names):"
   ]
  },
  {
   "cell_type": "code",
   "execution_count": 9,
   "metadata": {
    "collapsed": false
   },
   "outputs": [
    {
     "name": "stdout",
     "output_type": "stream",
     "text": [
      "['id', 'date', 'time', 'date_time']\n"
     ]
    }
   ],
   "source": [
    "import sqlite3\n",
    "\n",
    "sqlite_file = 'my_db1.db'\n",
    "table_name = 'my_table_3'\n",
    "\n",
    "# Connecting to the database file\n",
    "conn = sqlite3.connect(sqlite_file)\n",
    "c = conn.cursor()\n",
    "\n",
    "# Retrieve column information\n",
    "# Every column will be represented by a tuple with the following attributes:\n",
    "# (id, name, type, notnull, default_value, primary_key)\n",
    "c.execute('PRAGMA TABLE_INFO({})'.format(table_name))\n",
    "\n",
    "# collect names in a list\n",
    "names = [tup[1] for tup in c.fetchall()]\n",
    "print(names)\n",
    "# e.g., ['id', 'date', 'time', 'date_time']\n",
    "\n",
    "# Closing the connection to the database file\n",
    "conn.close()\n"
   ]
  },
  {
   "cell_type": "markdown",
   "metadata": {},
   "source": [
    "# Printing a database summary\n",
    "\n",
    "I hope we covered most of the basics about SQLite database operations in the previous sections, and by now we should be well equipped to get some serious work done using SQLite in Python.\n",
    "Let me conclude this tutorial with an obligatory “last but not least” and a convenient script to print a nice overview of SQLite database tables:"
   ]
  },
  {
   "cell_type": "code",
   "execution_count": 58,
   "metadata": {
    "collapsed": false
   },
   "outputs": [
    {
     "name": "stdout",
     "output_type": "stream",
     "text": [
      "\n",
      "Total rows: 1\n",
      "\n",
      "Column Info:\n",
      "ID, Name, Type, NotNull, DefaultVal, PrimaryKey\n",
      "(0, 'id', 'TEXT', 0, None, 1)\n",
      "(1, 'date', '', 0, None, 0)\n",
      "(2, 'time', '', 0, None, 0)\n",
      "(3, 'date_time', '', 0, None, 0)\n",
      "\n",
      "Number of entries per column:\n",
      "id: 1\n",
      "date: 1\n",
      "time: 1\n",
      "date_time: 1\n"
     ]
    }
   ],
   "source": [
    "import sqlite3\n",
    "\n",
    "def connect(sqlite_file):\n",
    "    \"\"\" Make connection to an SQLite database file \"\"\"\n",
    "    conn = sqlite3.connect(sqlite_file)\n",
    "    c = conn.cursor()\n",
    "    return conn, c\n",
    "\n",
    "def close(conn):\n",
    "    \"\"\" Commit changes and close connection to the database \"\"\"\n",
    "    # conn.commit()\n",
    "    conn.close()\n",
    "\n",
    "def total_rows(cursor, table_name, print_out=False):\n",
    "    \"\"\" Returns the total number of rows in the database \"\"\"\n",
    "    c.execute('SELECT COUNT(*) FROM {}'.format(table_name))\n",
    "    count = c.fetchall()\n",
    "    if print_out:\n",
    "        print('\\nTotal rows: {}'.format(count[0][0]))\n",
    "    return count[0][0]\n",
    "\n",
    "def table_col_info(cursor, table_name, print_out=False):\n",
    "    \"\"\" Returns a list of tuples with column informations:\n",
    "        (id, name, type, notnull, default_value, primary_key)\n",
    "    \"\"\"\n",
    "    c.execute('PRAGMA TABLE_INFO({})'.format(table_name))\n",
    "    info = c.fetchall()\n",
    "\n",
    "    if print_out:\n",
    "        print(\"\\nColumn Info:\\nID, Name, Type, NotNull, DefaultVal, PrimaryKey\")\n",
    "        for col in info:\n",
    "            print(col)\n",
    "    return info\n",
    "\n",
    "def values_in_col(cursor, table_name, print_out=True):\n",
    "    \"\"\" Returns a dictionary with columns as keys and the number of not-null\n",
    "        entries as associated values.\n",
    "    \"\"\"\n",
    "    c.execute('PRAGMA TABLE_INFO({})'.format(table_name))\n",
    "    info = c.fetchall()\n",
    "    col_dict = dict()\n",
    "    for col in info:\n",
    "        col_dict[col[1]] = 0\n",
    "    for col in col_dict:\n",
    "        c.execute('SELECT ({0}) FROM {1} WHERE {0} IS NOT NULL'.format(col, table_name))\n",
    "        # In my case this approach resulted in a better performance than using COUNT\n",
    "        number_rows = len(c.fetchall())\n",
    "        col_dict[col] = number_rows\n",
    "    if print_out:\n",
    "        print(\"\\nNumber of entries per column:\")\n",
    "        for i in col_dict.items():\n",
    "            print('{}: {}'.format(i[0], i[1]))\n",
    "    return col_dict\n",
    "\n",
    "\n",
    "if __name__ == '__main__':\n",
    "\n",
    "    sqlite_file = 'my_db1.db'\n",
    "    table_name = 'my_table_3'\n",
    "\n",
    "    conn, c = connect(sqlite_file)\n",
    "    total_rows(c, table_name, print_out=True)\n",
    "    table_col_info(c, table_name, print_out=True)\n",
    "    values_in_col(c, table_name, print_out=True) # slow on large data bases\n",
    "\n",
    "    close(conn)\n",
    "\n"
   ]
  },
  {
   "cell_type": "code",
   "execution_count": 10,
   "metadata": {
    "collapsed": false
   },
   "outputs": [
    {
     "name": "stdout",
     "output_type": "stream",
     "text": [
      " "
     ]
    }
   ],
   "source": [
    "# example using cProfile\n",
    "import matplotlib.pyplot as plt\n",
    "import numpy as np\n",
    "\n",
    "def f(x):\n",
    "    return x**3 - 1\n",
    "\n",
    "def fprime(x):\n",
    "    return 3*x**2\n",
    "\n",
    "def newton(z, f, fprime, max_iter=100, tol=1e-6):\n",
    "    \"\"\"The Newton-Raphson method.\"\"\"\n",
    "    for i in range(max_iter):\n",
    "        step = f(z)/fprime(z)\n",
    "        if abs(step) < tol:\n",
    "            return i, z\n",
    "        z -= step\n",
    "    return i, z\n",
    "\n",
    "def plot_newton_iters(p, pprime, n=200, extent=[-1,1,-1,1], cmap='hsv'):\n",
    "    \"\"\"Shows how long it takes to converge to a root using the Newton-Raphson method.\"\"\"\n",
    "    m = np.zeros((n,n))\n",
    "    xmin, xmax, ymin, ymax = extent\n",
    "    for r, x in enumerate(np.linspace(xmin, xmax, n)):\n",
    "        for s, y in enumerate(np.linspace(ymin, ymax, n)):\n",
    "            z = x + y*1j\n",
    "            m[s, r] = newton(z, p, pprime)[0]\n",
    "    plt.imshow(m, cmap=cmap, extent=extent)\n",
    "\n",
    "stats = %prun -r -q plot_newton_iters(f, fprime)"
   ]
  },
  {
   "cell_type": "code",
   "execution_count": 62,
   "metadata": {
    "collapsed": false
   },
   "outputs": [
    {
     "name": "stdout",
     "output_type": "stream",
     "text": [
      "The slowest run took 15.56 times longer than the fastest. This could mean that an intermediate result is being cached.\n",
      "1 loop, best of 3: 17.7 ms per loop\n"
     ]
    }
   ],
   "source": [
    "%timeit np.linalg.eigvals(np.random.rand(100,100))"
   ]
  },
  {
   "cell_type": "code",
   "execution_count": null,
   "metadata": {
    "collapsed": true
   },
   "outputs": [],
   "source": []
  }
 ],
 "metadata": {
  "kernelspec": {
   "display_name": "Python 3",
   "language": "python",
   "name": "python3"
  },
  "language_info": {
   "codemirror_mode": {
    "name": "ipython",
    "version": 3
   },
   "file_extension": ".py",
   "mimetype": "text/x-python",
   "name": "python",
   "nbconvert_exporter": "python",
   "pygments_lexer": "ipython3",
   "version": "3.6.0"
  }
 },
 "nbformat": 4,
 "nbformat_minor": 2
}
